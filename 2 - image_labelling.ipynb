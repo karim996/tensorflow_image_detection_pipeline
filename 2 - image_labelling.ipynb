{
 "cells": [
  {
   "cell_type": "code",
   "execution_count": 9,
   "id": "1632a77f",
   "metadata": {},
   "outputs": [],
   "source": [
    "#import os"
   ]
  },
  {
   "cell_type": "code",
   "execution_count": 2,
   "id": "1af0414e",
   "metadata": {},
   "outputs": [],
   "source": [
    "# check if images scraped with google\n",
    "\n",
    "#img_directory = ''\n",
    "\n",
    "#if os.path.exists(img_directory):\n",
    " #   print('images already scraped')\n",
    "#else:\n",
    " #   print('you need to collect images first')"
   ]
  },
  {
   "cell_type": "code",
   "execution_count": 3,
   "id": "09410735",
   "metadata": {},
   "outputs": [],
   "source": [
    "# LABELIMG_PATH = os.path.join('Tensorflow', 'labelimg')"
   ]
  },
  {
   "cell_type": "code",
   "execution_count": 4,
   "id": "abd84e31",
   "metadata": {},
   "outputs": [],
   "source": [
    "#if not os.path.exists(LABELIMG_PATH):\n",
    " #   !mkdir {LABELIMG_PATH}\n",
    " #   !git clone https://github.com/tzutalin/labelImg {LABELIMG_PATH}"
   ]
  },
  {
   "cell_type": "code",
   "execution_count": 5,
   "id": "d5e5555d",
   "metadata": {},
   "outputs": [],
   "source": [
    "#if os.name == 'posix':\n",
    " #   !make qt5py3\n",
    "#if os.name =='nt':\n",
    " #  !cd {LABELIMG_PATH} && pyrcc5 -o libs/resources.py resources.qrc"
   ]
  },
  {
   "cell_type": "code",
   "execution_count": 6,
   "id": "a7acf3f6",
   "metadata": {},
   "outputs": [],
   "source": [
    "# labeling the images\n",
    "\n",
    "#!cd {LABELIMG_PATH} && python labelImg.py"
   ]
  },
  {
   "cell_type": "code",
   "execution_count": 7,
   "id": "6b2a2890",
   "metadata": {},
   "outputs": [],
   "source": [
    "#TRAIN_PATH = os.path.join('Tensorflow', 'workspace', 'images', 'train')\n",
    "#TEST_PATH = os.path.join('Tensorflow', 'workspace', 'images', 'test')\n",
    "#ARCHIVE_PATH = os.path.join('Tensorflow', 'workspace', 'images', 'archive.tar.gz')"
   ]
  },
  {
   "cell_type": "code",
   "execution_count": 8,
   "id": "56d342ac",
   "metadata": {},
   "outputs": [],
   "source": [
    "#!tar -czf {ARCHIVE_PATH} {TRAIN_PATH} {TEST_PATH}"
   ]
  },
  {
   "cell_type": "code",
   "execution_count": null,
   "id": "c2a7f148",
   "metadata": {},
   "outputs": [],
   "source": []
  }
 ],
 "metadata": {
  "kernelspec": {
   "display_name": "Python 3",
   "language": "python",
   "name": "python3"
  },
  "language_info": {
   "codemirror_mode": {
    "name": "ipython",
    "version": 3
   },
   "file_extension": ".py",
   "mimetype": "text/x-python",
   "name": "python",
   "nbconvert_exporter": "python",
   "pygments_lexer": "ipython3",
   "version": "3.8.8"
  }
 },
 "nbformat": 4,
 "nbformat_minor": 5
}
