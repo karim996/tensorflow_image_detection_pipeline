{
 "cells": [
  {
   "cell_type": "code",
   "execution_count": null,
   "id": "54188eb9",
   "metadata": {},
   "outputs": [],
   "source": [
    "# cloning the repository\n",
    "!git clone https://github.com/Joeclinton1/google-images-download.git google_download_images"
   ]
  },
  {
   "cell_type": "code",
   "execution_count": null,
   "id": "324a3f02",
   "metadata": {},
   "outputs": [],
   "source": [
    "!cd g-download_images && python setup.py install"
   ]
  },
  {
   "cell_type": "code",
   "execution_count": null,
   "id": "32a49ab6",
   "metadata": {},
   "outputs": [],
   "source": [
    "# command to download images and place them in directory destination\n",
    "!python g-download_images/google_images_download/google_images_download.py --keywords \"middle finger selfie\" --limit 50 -o {destination_path}"
   ]
  }
 ],
 "metadata": {
  "kernelspec": {
   "display_name": "Python 3",
   "language": "python",
   "name": "python3"
  },
  "language_info": {
   "codemirror_mode": {
    "name": "ipython",
    "version": 3
   },
   "file_extension": ".py",
   "mimetype": "text/x-python",
   "name": "python",
   "nbconvert_exporter": "python",
   "pygments_lexer": "ipython3",
   "version": "3.8.8"
  }
 },
 "nbformat": 4,
 "nbformat_minor": 5
}
